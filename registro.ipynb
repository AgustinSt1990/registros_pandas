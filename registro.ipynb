{
 "cells": [
  {
   "cell_type": "markdown",
   "metadata": {},
   "source": [
    "# Lista de gastos\n",
    "\n",
    "\n",
    "\n",
    "La lista que voy a crear a continuación es una forma manual de cargar datos escritos a mano. <br />\n",
    "Además de cargar los datos y representarlos en un DataFrame de Pandas, voy a obtener representaciones visuales. <br />\n",
    "Por último voy a desplegar esta notebook con el framework Mercury para disponibilizarlo en la web."
   ]
  },
  {
   "cell_type": "code",
   "execution_count": 26,
   "metadata": {},
   "outputs": [
    {
     "name": "stdout",
     "output_type": "stream",
     "text": [
      "iteracion: 0\n",
      "iteracion: 1\n",
      "iteracion: 2\n"
     ]
    }
   ],
   "source": [
    "import pandas as pd\n",
    "import datetime as dt\n",
    "\n",
    "\n",
    "# Informacion del momento de registro\n",
    "now = dt.datetime.now()\n",
    "year = now.year\n",
    "date = now.strftime(\"%d/%m/%Y\")\n",
    "time = now.strftime(\"%H:%M\")\n",
    "\n",
    "\n",
    "variable = [\n",
    "    \"Fecha\",\n",
    "    \"Descripcion\",\n",
    "    \"Monto\",\n",
    "    \"Categoria\",\n",
    "]\n",
    "N = len(variable)\n",
    "\n",
    "origin_row = list()\n",
    "for i in range(N):\n",
    "    origin_row.append([])\n",
    "\n",
    "\n",
    "def cargar_datos():\n",
    "    global origin_row, variable\n",
    "    while True:\n",
    "        i = iter(range(N))\n",
    "        ii = iter(range(N))\n",
    "        try:\n",
    "            while True:\n",
    "                # Añadir Dato\n",
    "                origin_row[next(i)].append(input(f\"{variable[next(ii)]}: \"))\n",
    "        except:\n",
    "            pass\n",
    "        if not input('Presione \"Enter\" para salir'):\n",
    "            return origin_row\n",
    "\n",
    "\n",
    "dict_base = dict()\n",
    "for i, lista in enumerate(cargar_datos()):\n",
    "\n",
    "    if i == 0:\n",
    "        for i, elemento in enumerate(lista):\n",
    "            lista[i] = elemento + f\"/{year}\"\n",
    "        dict_base[variable[i]] = lista\n",
    "    dict_base[variable[i]] = lista\n",
    "\n",
    "# Descarga de datos en formato csv\n",
    "pd.DataFrame(dict_base).to_csv(\"test.csv\")"
   ]
  },
  {
   "cell_type": "code",
   "execution_count": 28,
   "metadata": {},
   "outputs": [
    {
     "data": {
      "text/html": [
       "<div>\n",
       "<style scoped>\n",
       "    .dataframe tbody tr th:only-of-type {\n",
       "        vertical-align: middle;\n",
       "    }\n",
       "\n",
       "    .dataframe tbody tr th {\n",
       "        vertical-align: top;\n",
       "    }\n",
       "\n",
       "    .dataframe thead th {\n",
       "        text-align: right;\n",
       "    }\n",
       "</style>\n",
       "<table border=\"1\" class=\"dataframe\">\n",
       "  <thead>\n",
       "    <tr style=\"text-align: right;\">\n",
       "      <th></th>\n",
       "      <th>Unnamed: 0</th>\n",
       "      <th>Monto</th>\n",
       "      <th>Descripcion</th>\n",
       "      <th>Categoria</th>\n",
       "    </tr>\n",
       "  </thead>\n",
       "  <tbody>\n",
       "    <tr>\n",
       "      <th>0</th>\n",
       "      <td>0</td>\n",
       "      <td>1700</td>\n",
       "      <td>Heladeria</td>\n",
       "      <td>lifestyle</td>\n",
       "    </tr>\n",
       "    <tr>\n",
       "      <th>1</th>\n",
       "      <td>1</td>\n",
       "      <td>4500</td>\n",
       "      <td>Veterinaria</td>\n",
       "      <td>casa</td>\n",
       "    </tr>\n",
       "    <tr>\n",
       "      <th>2</th>\n",
       "      <td>2</td>\n",
       "      <td>4500</td>\n",
       "      <td>casa</td>\n",
       "      <td>casa</td>\n",
       "    </tr>\n",
       "  </tbody>\n",
       "</table>\n",
       "</div>"
      ],
      "text/plain": [
       "   Unnamed: 0  Monto  Descripcion  Categoria\n",
       "0           0   1700    Heladeria  lifestyle\n",
       "1           1   4500  Veterinaria       casa\n",
       "2           2   4500         casa       casa"
      ]
     },
     "execution_count": 28,
     "metadata": {},
     "output_type": "execute_result"
    }
   ],
   "source": [
    "pd.read_csv(\"test.csv\")"
   ]
  }
 ],
 "metadata": {
  "kernelspec": {
   "display_name": "Python 3.10.2 64-bit",
   "language": "python",
   "name": "python3"
  },
  "language_info": {
   "codemirror_mode": {
    "name": "ipython",
    "version": 3
   },
   "file_extension": ".py",
   "mimetype": "text/x-python",
   "name": "python",
   "nbconvert_exporter": "python",
   "pygments_lexer": "ipython3",
   "version": "3.10.2"
  },
  "orig_nbformat": 4,
  "vscode": {
   "interpreter": {
    "hash": "4a8ad0719fb4c7e694a659c43e490ed667120cd373b1de1407c37b4b29da83d3"
   }
  }
 },
 "nbformat": 4,
 "nbformat_minor": 2
}
