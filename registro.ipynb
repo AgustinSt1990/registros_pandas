{
 "cells": [
  {
   "cell_type": "markdown",
   "metadata": {},
   "source": [
    "# Lista de gastos\n",
    "\n",
    "\n",
    "\n",
    "La lista que voy a crear a continuación es una forma manual de cargar datos escritos a mano. <br />\n",
    "Además de cargar los datos y representarlos en un DataFrame de Pandas, voy a obtener representaciones visuales. <br />\n",
    "Por último voy a desplegar esta notebook con el framework Mercury para disponibilizarlo en la web."
   ]
  },
  {
   "cell_type": "markdown",
   "metadata": {},
   "source": [
    "# 1) CARGAR Y EXPORTAR DATOS"
   ]
  },
  {
   "cell_type": "code",
   "execution_count": 1,
   "metadata": {},
   "outputs": [],
   "source": [
    "CARGAR_DATOS = False"
   ]
  },
  {
   "cell_type": "code",
   "execution_count": 2,
   "metadata": {},
   "outputs": [],
   "source": [
    "import os\n",
    "import pandas as pd\n",
    "import datetime as dt\n",
    "import re\n",
    "\n",
    "path = os.getcwd() + \"\\data\\\\\"\n",
    "os.makedirs(path, exist_ok=True)\n",
    "\n",
    "# Informacion del momento de registro\n",
    "now = dt.datetime.now()\n",
    "year = now.year\n",
    "date = lambda: now.strftime(\"%d/%m/%Y\")\n",
    "time = lambda: now.strftime(\"%H:%M\")\n",
    "\n",
    "if CARGAR_DATOS:\n",
    "    variables = [\n",
    "        \"Fecha\",\n",
    "        \"Descripcion\",\n",
    "        \"Monto\",\n",
    "        \"Categoria\",\n",
    "    ]\n",
    "    N = len(variables)\n",
    "\n",
    "    origin_row = list()\n",
    "    for i in range(N):\n",
    "        origin_row.append([])\n",
    "\n",
    "\n",
    "    def cargar_datos():\n",
    "        \"\"\"Devuelve una lista de listas, cada lista esta una variable\"\"\"\n",
    "        global origin_row, variables\n",
    "        while True:\n",
    "            i = iter(range(N))\n",
    "            ii = iter(range(N))\n",
    "            try:\n",
    "                while True:\n",
    "                    # Añadir Dato\n",
    "                    origin_row[next(i)].append(input(f\"{variables[next(ii)]}: \"))\n",
    "            except:\n",
    "                pass\n",
    "            if not input('Presione \"Enter\" para salir'):\n",
    "                return origin_row\n",
    "\n",
    "\n",
    "    dict_base = dict()\n",
    "    columns_row = cargar_datos()\n",
    "    for i, lista in enumerate(columns_row):\n",
    "        if i == 0:\n",
    "            for ii, elemento in enumerate(lista):\n",
    "                lista[ii] = elemento + f\"/{year}\"\n",
    "            dict_base[variables[i]] = lista\n",
    "        dict_base[variables[i]] = lista\n",
    "\n",
    "    # Descarga de datos en formato csv\n",
    "    file_name = date().replace(\"/\", \"-\")+'_'+time().replace(\":\", \"-\")\n",
    "    pd.DataFrame(dict_base).to_csv(os.getcwd() + \"\\data\\\\\" + file_name + '.csv')"
   ]
  },
  {
   "cell_type": "markdown",
   "metadata": {},
   "source": [
    "# 2) LEER LOS DATOS ACONDICIONADOS Y PREPARARLOS"
   ]
  },
  {
   "cell_type": "code",
   "execution_count": 3,
   "metadata": {},
   "outputs": [
    {
     "data": {
      "text/html": [
       "<div>\n",
       "<style scoped>\n",
       "    .dataframe tbody tr th:only-of-type {\n",
       "        vertical-align: middle;\n",
       "    }\n",
       "\n",
       "    .dataframe tbody tr th {\n",
       "        vertical-align: top;\n",
       "    }\n",
       "\n",
       "    .dataframe thead th {\n",
       "        text-align: right;\n",
       "    }\n",
       "</style>\n",
       "<table border=\"1\" class=\"dataframe\">\n",
       "  <thead>\n",
       "    <tr style=\"text-align: right;\">\n",
       "      <th></th>\n",
       "      <th>Fecha</th>\n",
       "      <th>Descripcion</th>\n",
       "      <th>Monto</th>\n",
       "      <th>Categoria</th>\n",
       "    </tr>\n",
       "  </thead>\n",
       "  <tbody>\n",
       "    <tr>\n",
       "      <th>0</th>\n",
       "      <td>9/9/2022</td>\n",
       "      <td>Heladeria Grido</td>\n",
       "      <td>1700</td>\n",
       "      <td>lifestyle</td>\n",
       "    </tr>\n",
       "    <tr>\n",
       "      <th>1</th>\n",
       "      <td>9/9/2022</td>\n",
       "      <td>Veterinaria comida India</td>\n",
       "      <td>4500</td>\n",
       "      <td>casa</td>\n",
       "    </tr>\n",
       "    <tr>\n",
       "      <th>2</th>\n",
       "      <td>10/9/2022</td>\n",
       "      <td>Super \"La Cruz\"</td>\n",
       "      <td>1760</td>\n",
       "      <td>almacen</td>\n",
       "    </tr>\n",
       "    <tr>\n",
       "      <th>3</th>\n",
       "      <td>10/9/2022</td>\n",
       "      <td>carniceria \"Rufo\"</td>\n",
       "      <td>1760</td>\n",
       "      <td>fresco</td>\n",
       "    </tr>\n",
       "    <tr>\n",
       "      <th>4</th>\n",
       "      <td>10/9/2022</td>\n",
       "      <td>Farmacia</td>\n",
       "      <td>600</td>\n",
       "      <td>casa</td>\n",
       "    </tr>\n",
       "    <tr>\n",
       "      <th>5</th>\n",
       "      <td>10/9/2022</td>\n",
       "      <td>Luz y Agua</td>\n",
       "      <td>4000</td>\n",
       "      <td>gastos fijos</td>\n",
       "    </tr>\n",
       "    <tr>\n",
       "      <th>6</th>\n",
       "      <td>11/9/2022</td>\n",
       "      <td>Carniceria</td>\n",
       "      <td>2500</td>\n",
       "      <td>fresco</td>\n",
       "    </tr>\n",
       "    <tr>\n",
       "      <th>7</th>\n",
       "      <td>11/9/2022</td>\n",
       "      <td>panaderia</td>\n",
       "      <td>630</td>\n",
       "      <td>almacen</td>\n",
       "    </tr>\n",
       "    <tr>\n",
       "      <th>8</th>\n",
       "      <td>11/9/2022</td>\n",
       "      <td>panaderia</td>\n",
       "      <td>900</td>\n",
       "      <td>lifestyle</td>\n",
       "    </tr>\n",
       "    <tr>\n",
       "      <th>9</th>\n",
       "      <td>11/9/2022</td>\n",
       "      <td>Comision Vicky</td>\n",
       "      <td>6700</td>\n",
       "      <td>gastos extras</td>\n",
       "    </tr>\n",
       "    <tr>\n",
       "      <th>10</th>\n",
       "      <td>12/9/2022</td>\n",
       "      <td>Pollo \"La Familia\"</td>\n",
       "      <td>1900</td>\n",
       "      <td>lifestyle</td>\n",
       "    </tr>\n",
       "    <tr>\n",
       "      <th>11</th>\n",
       "      <td>12/9/2022</td>\n",
       "      <td>Farmacia</td>\n",
       "      <td>600</td>\n",
       "      <td>casa</td>\n",
       "    </tr>\n",
       "    <tr>\n",
       "      <th>12</th>\n",
       "      <td>12/9/2022</td>\n",
       "      <td>Bebidas vino - cerveza</td>\n",
       "      <td>1250</td>\n",
       "      <td>lifestyle</td>\n",
       "    </tr>\n",
       "    <tr>\n",
       "      <th>13</th>\n",
       "      <td>12/9/2022</td>\n",
       "      <td>Internet y cable</td>\n",
       "      <td>4600</td>\n",
       "      <td>gastos fijos</td>\n",
       "    </tr>\n",
       "    <tr>\n",
       "      <th>14</th>\n",
       "      <td>13/9/2022</td>\n",
       "      <td>Deuda Municipalidad</td>\n",
       "      <td>3300</td>\n",
       "      <td>gastos extras</td>\n",
       "    </tr>\n",
       "    <tr>\n",
       "      <th>15</th>\n",
       "      <td>13/9/2022</td>\n",
       "      <td>Farmacia</td>\n",
       "      <td>6000</td>\n",
       "      <td>casa</td>\n",
       "    </tr>\n",
       "    <tr>\n",
       "      <th>16</th>\n",
       "      <td>14/9/2022</td>\n",
       "      <td>Despensa - jamon y queso</td>\n",
       "      <td>1950</td>\n",
       "      <td>almacen</td>\n",
       "    </tr>\n",
       "    <tr>\n",
       "      <th>17</th>\n",
       "      <td>15/9/2022</td>\n",
       "      <td>Alquiler</td>\n",
       "      <td>45000</td>\n",
       "      <td>gastos fijos</td>\n",
       "    </tr>\n",
       "    <tr>\n",
       "      <th>18</th>\n",
       "      <td>15/9/2022</td>\n",
       "      <td>carne y verduras</td>\n",
       "      <td>2595</td>\n",
       "      <td>fresco</td>\n",
       "    </tr>\n",
       "    <tr>\n",
       "      <th>19</th>\n",
       "      <td>16/9/2022</td>\n",
       "      <td>jabón liquido, quita mancha y lavandina</td>\n",
       "      <td>3300</td>\n",
       "      <td>casa</td>\n",
       "    </tr>\n",
       "    <tr>\n",
       "      <th>20</th>\n",
       "      <td>16/9/2022</td>\n",
       "      <td>leche en polvo</td>\n",
       "      <td>1100</td>\n",
       "      <td>almacen</td>\n",
       "    </tr>\n",
       "    <tr>\n",
       "      <th>21</th>\n",
       "      <td>16/9/2022</td>\n",
       "      <td>Despensa Moni</td>\n",
       "      <td>1300</td>\n",
       "      <td>almacen</td>\n",
       "    </tr>\n",
       "    <tr>\n",
       "      <th>22</th>\n",
       "      <td>16/9/2022</td>\n",
       "      <td>Cordiez</td>\n",
       "      <td>1100</td>\n",
       "      <td>lifestyle</td>\n",
       "    </tr>\n",
       "    <tr>\n",
       "      <th>23</th>\n",
       "      <td>16/9/2022</td>\n",
       "      <td>Despensa Moni</td>\n",
       "      <td>900</td>\n",
       "      <td>lifestyle</td>\n",
       "    </tr>\n",
       "    <tr>\n",
       "      <th>24</th>\n",
       "      <td>16/9/2022</td>\n",
       "      <td>Nafta 6L</td>\n",
       "      <td>1100</td>\n",
       "      <td>gastos fijos</td>\n",
       "    </tr>\n",
       "    <tr>\n",
       "      <th>25</th>\n",
       "      <td>17/9/2022</td>\n",
       "      <td>Carniceria</td>\n",
       "      <td>2120</td>\n",
       "      <td>fresco</td>\n",
       "    </tr>\n",
       "    <tr>\n",
       "      <th>26</th>\n",
       "      <td>17/9/2022</td>\n",
       "      <td>Almacen</td>\n",
       "      <td>4000</td>\n",
       "      <td>almacen</td>\n",
       "    </tr>\n",
       "    <tr>\n",
       "      <th>27</th>\n",
       "      <td>17/9/2022</td>\n",
       "      <td>Miel</td>\n",
       "      <td>1500</td>\n",
       "      <td>almacen</td>\n",
       "    </tr>\n",
       "    <tr>\n",
       "      <th>28</th>\n",
       "      <td>17/9/2022</td>\n",
       "      <td>coco</td>\n",
       "      <td>600</td>\n",
       "      <td>almacen</td>\n",
       "    </tr>\n",
       "    <tr>\n",
       "      <th>29</th>\n",
       "      <td>19/9/2022</td>\n",
       "      <td>carne y verdura</td>\n",
       "      <td>2800</td>\n",
       "      <td>fresco</td>\n",
       "    </tr>\n",
       "    <tr>\n",
       "      <th>30</th>\n",
       "      <td>19/9/2022</td>\n",
       "      <td>pan</td>\n",
       "      <td>400</td>\n",
       "      <td>almacen</td>\n",
       "    </tr>\n",
       "    <tr>\n",
       "      <th>31</th>\n",
       "      <td>22/9/2022</td>\n",
       "      <td>Carniceria</td>\n",
       "      <td>3000</td>\n",
       "      <td>fresco</td>\n",
       "    </tr>\n",
       "    <tr>\n",
       "      <th>32</th>\n",
       "      <td>22/9/2022</td>\n",
       "      <td>Almacen</td>\n",
       "      <td>1500</td>\n",
       "      <td>almacen</td>\n",
       "    </tr>\n",
       "    <tr>\n",
       "      <th>33</th>\n",
       "      <td>22/9/2022</td>\n",
       "      <td>birra</td>\n",
       "      <td>600</td>\n",
       "      <td>lifestyle</td>\n",
       "    </tr>\n",
       "    <tr>\n",
       "      <th>34</th>\n",
       "      <td>22/9/2022</td>\n",
       "      <td>Gas</td>\n",
       "      <td>4800</td>\n",
       "      <td>gastos fijos</td>\n",
       "    </tr>\n",
       "    <tr>\n",
       "      <th>35</th>\n",
       "      <td>26/9/2022</td>\n",
       "      <td>Quesos</td>\n",
       "      <td>5000</td>\n",
       "      <td>almacen</td>\n",
       "    </tr>\n",
       "    <tr>\n",
       "      <th>36</th>\n",
       "      <td>26/9/2022</td>\n",
       "      <td>dulce</td>\n",
       "      <td>650</td>\n",
       "      <td>almacen</td>\n",
       "    </tr>\n",
       "    <tr>\n",
       "      <th>37</th>\n",
       "      <td>26/9/2022</td>\n",
       "      <td>verduleria</td>\n",
       "      <td>1600</td>\n",
       "      <td>fresco</td>\n",
       "    </tr>\n",
       "    <tr>\n",
       "      <th>38</th>\n",
       "      <td>26/9/2022</td>\n",
       "      <td>limones</td>\n",
       "      <td>130</td>\n",
       "      <td>fresco</td>\n",
       "    </tr>\n",
       "    <tr>\n",
       "      <th>39</th>\n",
       "      <td>29/9/2022</td>\n",
       "      <td>A</td>\n",
       "      <td>1740</td>\n",
       "      <td>A</td>\n",
       "    </tr>\n",
       "    <tr>\n",
       "      <th>40</th>\n",
       "      <td>29/9/2022</td>\n",
       "      <td>Comida Kenya</td>\n",
       "      <td>1570</td>\n",
       "      <td>casa</td>\n",
       "    </tr>\n",
       "    <tr>\n",
       "      <th>41</th>\n",
       "      <td>30/9/2022</td>\n",
       "      <td>carne y verduras</td>\n",
       "      <td>5680</td>\n",
       "      <td>fresco</td>\n",
       "    </tr>\n",
       "    <tr>\n",
       "      <th>42</th>\n",
       "      <td>1/10/2022</td>\n",
       "      <td>verduras</td>\n",
       "      <td>1400</td>\n",
       "      <td>fresco</td>\n",
       "    </tr>\n",
       "    <tr>\n",
       "      <th>43</th>\n",
       "      <td>4/10/2022</td>\n",
       "      <td>despensa</td>\n",
       "      <td>1000</td>\n",
       "      <td>almacen</td>\n",
       "    </tr>\n",
       "    <tr>\n",
       "      <th>44</th>\n",
       "      <td>6/10/2022</td>\n",
       "      <td>Cordiez</td>\n",
       "      <td>8000</td>\n",
       "      <td>almacen</td>\n",
       "    </tr>\n",
       "    <tr>\n",
       "      <th>45</th>\n",
       "      <td>7/10/2022</td>\n",
       "      <td>Internet y cable</td>\n",
       "      <td>5100</td>\n",
       "      <td>gastos fijos</td>\n",
       "    </tr>\n",
       "  </tbody>\n",
       "</table>\n",
       "</div>"
      ],
      "text/plain": [
       "        Fecha                              Descripcion  Monto      Categoria\n",
       "0    9/9/2022                          Heladeria Grido   1700      lifestyle\n",
       "1    9/9/2022                 Veterinaria comida India   4500           casa\n",
       "2   10/9/2022                         Super \"La Cruz\"    1760        almacen\n",
       "3   10/9/2022                        carniceria \"Rufo\"   1760         fresco\n",
       "4   10/9/2022                                 Farmacia    600           casa\n",
       "5   10/9/2022                               Luz y Agua   4000   gastos fijos\n",
       "6   11/9/2022                               Carniceria   2500         fresco\n",
       "7   11/9/2022                                panaderia    630        almacen\n",
       "8   11/9/2022                                panaderia    900      lifestyle\n",
       "9   11/9/2022                           Comision Vicky   6700  gastos extras\n",
       "10  12/9/2022                       Pollo \"La Familia\"   1900      lifestyle\n",
       "11  12/9/2022                                 Farmacia    600           casa\n",
       "12  12/9/2022                   Bebidas vino - cerveza   1250      lifestyle\n",
       "13  12/9/2022                         Internet y cable   4600   gastos fijos\n",
       "14  13/9/2022                      Deuda Municipalidad   3300  gastos extras\n",
       "15  13/9/2022                                 Farmacia   6000           casa\n",
       "16  14/9/2022                 Despensa - jamon y queso   1950        almacen\n",
       "17  15/9/2022                                 Alquiler  45000   gastos fijos\n",
       "18  15/9/2022                         carne y verduras   2595         fresco\n",
       "19  16/9/2022  jabón liquido, quita mancha y lavandina   3300           casa\n",
       "20  16/9/2022                           leche en polvo   1100        almacen\n",
       "21  16/9/2022                            Despensa Moni   1300        almacen\n",
       "22  16/9/2022                                  Cordiez   1100      lifestyle\n",
       "23  16/9/2022                            Despensa Moni    900      lifestyle\n",
       "24  16/9/2022                                 Nafta 6L   1100   gastos fijos\n",
       "25  17/9/2022                               Carniceria   2120         fresco\n",
       "26  17/9/2022                                  Almacen   4000        almacen\n",
       "27  17/9/2022                                     Miel   1500        almacen\n",
       "28  17/9/2022                                     coco    600        almacen\n",
       "29  19/9/2022                          carne y verdura   2800         fresco\n",
       "30  19/9/2022                                      pan    400        almacen\n",
       "31  22/9/2022                               Carniceria   3000         fresco\n",
       "32  22/9/2022                                  Almacen   1500        almacen\n",
       "33  22/9/2022                                    birra    600      lifestyle\n",
       "34  22/9/2022                                      Gas   4800   gastos fijos\n",
       "35  26/9/2022                                   Quesos   5000        almacen\n",
       "36  26/9/2022                                    dulce    650        almacen\n",
       "37  26/9/2022                               verduleria   1600         fresco\n",
       "38  26/9/2022                                  limones    130         fresco\n",
       "39  29/9/2022                                        A   1740              A\n",
       "40  29/9/2022                             Comida Kenya   1570           casa\n",
       "41  30/9/2022                         carne y verduras   5680         fresco\n",
       "42  1/10/2022                                 verduras   1400         fresco\n",
       "43  4/10/2022                                 despensa   1000        almacen\n",
       "44  6/10/2022                                  Cordiez   8000        almacen\n",
       "45  7/10/2022                         Internet y cable   5100   gastos fijos"
      ]
     },
     "execution_count": 3,
     "metadata": {},
     "output_type": "execute_result"
    }
   ],
   "source": [
    "\"\"\"\n",
    "Descripcion de las categorias:\n",
    "    lifestyle: todos aquellos gastos que hacemos para darnos gustos personales\n",
    "    frescos: principalmente carne y verdura, y otros productos de la canasta de frescos\n",
    "    almacen: productos que pueden ser acopiados\n",
    "    casa: incluye mascotas, farmacia, higiene personal y productos de limpieza\n",
    "    gastos fijos: gastos que son corrientes, incluye nafta\n",
    "    gastos extras: gastos que parecen fijos pero caducen en el tiempo\n",
    "\"\"\"\n",
    "\n",
    "file_names = os.listdir(path=os.getcwd() + \"\\data\\\\\")\n",
    "\n",
    "\n",
    "frame = pd.DataFrame()\n",
    "for file in file_names:\n",
    "    frame = pd.concat([frame, pd.read_csv(os.getcwd() + \"\\data\\\\\" + file)])\n",
    "\n",
    "\n",
    "frame.drop(columns=frame.columns[0], inplace=True)\n",
    "frame.reset_index(drop=True, inplace=True)\n",
    "\n",
    "patron=\"(error)\"\n",
    "regex = re.compile(patron)\n",
    "match_id = []\n",
    "for col_name in frame.columns:\n",
    "    regex_search = frame[col_name].apply(lambda x: regex.search(str(x)))\n",
    "    match_id.append(regex_search.dropna().apply(lambda x: x.group(0)).index)\n",
    "\n",
    "all_matches = []\n",
    "for variable in match_id:\n",
    "    if len(variable) == 0:\n",
    "        continue\n",
    "    for match in variable:\n",
    "        all_matches.append(match)\n",
    "\n",
    "all_matches = list(set(all_matches))\n",
    "\n",
    "frame.drop(all_matches, inplace=True)\n",
    "frame.reset_index(drop=True, inplace=True)\n",
    "\n",
    "frame"
   ]
  },
  {
   "cell_type": "markdown",
   "metadata": {},
   "source": [
    " # 3) RESEARCH AND REPORT"
   ]
  },
  {
   "cell_type": "code",
   "execution_count": 4,
   "metadata": {},
   "outputs": [],
   "source": [
    "from type_adjust import type_adjust\n",
    "# https://towardsdev.com/how-to-use-plotly-as-pandas-plotting-backend-123ff5378003\n",
    "pd.options.plotting.backend = \"plotly\"\n",
    "data = type_adjust(frame)"
   ]
  },
  {
   "cell_type": "code",
   "execution_count": 5,
   "metadata": {},
   "outputs": [
    {
     "data": {
      "application/vnd.plotly.v1+json": {
       "config": {
        "plotlyServerURL": "https://plot.ly"
       },
       "data": [
        {
         "alignmentgroup": "True",
         "hovertemplate": "variable=Monto<br>Categoria=%{x}<br>value=%{y}<extra></extra>",
         "legendgroup": "Monto",
         "marker": {
          "color": "#636efa",
          "pattern": {
           "shape": ""
          }
         },
         "name": "Monto",
         "offsetgroup": "Monto",
         "orientation": "v",
         "showlegend": true,
         "textposition": "auto",
         "type": "bar",
         "x": [
          "A",
          "almacen",
          "casa",
          "fresco",
          "gastos extras",
          "gastos fijos",
          "lifestyle"
         ],
         "xaxis": "x",
         "y": [
          1740,
          29390,
          16570,
          23585,
          10000,
          64600,
          8350
         ],
         "yaxis": "y"
        }
       ],
       "layout": {
        "barmode": "relative",
        "height": 800,
        "legend": {
         "title": {
          "text": "variable"
         },
         "tracegroupgap": 0
        },
        "margin": {
         "t": 60
        },
        "template": {
         "data": {
          "bar": [
           {
            "error_x": {
             "color": "#2a3f5f"
            },
            "error_y": {
             "color": "#2a3f5f"
            },
            "marker": {
             "line": {
              "color": "#E5ECF6",
              "width": 0.5
             },
             "pattern": {
              "fillmode": "overlay",
              "size": 10,
              "solidity": 0.2
             }
            },
            "type": "bar"
           }
          ],
          "barpolar": [
           {
            "marker": {
             "line": {
              "color": "#E5ECF6",
              "width": 0.5
             },
             "pattern": {
              "fillmode": "overlay",
              "size": 10,
              "solidity": 0.2
             }
            },
            "type": "barpolar"
           }
          ],
          "carpet": [
           {
            "aaxis": {
             "endlinecolor": "#2a3f5f",
             "gridcolor": "white",
             "linecolor": "white",
             "minorgridcolor": "white",
             "startlinecolor": "#2a3f5f"
            },
            "baxis": {
             "endlinecolor": "#2a3f5f",
             "gridcolor": "white",
             "linecolor": "white",
             "minorgridcolor": "white",
             "startlinecolor": "#2a3f5f"
            },
            "type": "carpet"
           }
          ],
          "choropleth": [
           {
            "colorbar": {
             "outlinewidth": 0,
             "ticks": ""
            },
            "type": "choropleth"
           }
          ],
          "contour": [
           {
            "colorbar": {
             "outlinewidth": 0,
             "ticks": ""
            },
            "colorscale": [
             [
              0,
              "#0d0887"
             ],
             [
              0.1111111111111111,
              "#46039f"
             ],
             [
              0.2222222222222222,
              "#7201a8"
             ],
             [
              0.3333333333333333,
              "#9c179e"
             ],
             [
              0.4444444444444444,
              "#bd3786"
             ],
             [
              0.5555555555555556,
              "#d8576b"
             ],
             [
              0.6666666666666666,
              "#ed7953"
             ],
             [
              0.7777777777777778,
              "#fb9f3a"
             ],
             [
              0.8888888888888888,
              "#fdca26"
             ],
             [
              1,
              "#f0f921"
             ]
            ],
            "type": "contour"
           }
          ],
          "contourcarpet": [
           {
            "colorbar": {
             "outlinewidth": 0,
             "ticks": ""
            },
            "type": "contourcarpet"
           }
          ],
          "heatmap": [
           {
            "colorbar": {
             "outlinewidth": 0,
             "ticks": ""
            },
            "colorscale": [
             [
              0,
              "#0d0887"
             ],
             [
              0.1111111111111111,
              "#46039f"
             ],
             [
              0.2222222222222222,
              "#7201a8"
             ],
             [
              0.3333333333333333,
              "#9c179e"
             ],
             [
              0.4444444444444444,
              "#bd3786"
             ],
             [
              0.5555555555555556,
              "#d8576b"
             ],
             [
              0.6666666666666666,
              "#ed7953"
             ],
             [
              0.7777777777777778,
              "#fb9f3a"
             ],
             [
              0.8888888888888888,
              "#fdca26"
             ],
             [
              1,
              "#f0f921"
             ]
            ],
            "type": "heatmap"
           }
          ],
          "heatmapgl": [
           {
            "colorbar": {
             "outlinewidth": 0,
             "ticks": ""
            },
            "colorscale": [
             [
              0,
              "#0d0887"
             ],
             [
              0.1111111111111111,
              "#46039f"
             ],
             [
              0.2222222222222222,
              "#7201a8"
             ],
             [
              0.3333333333333333,
              "#9c179e"
             ],
             [
              0.4444444444444444,
              "#bd3786"
             ],
             [
              0.5555555555555556,
              "#d8576b"
             ],
             [
              0.6666666666666666,
              "#ed7953"
             ],
             [
              0.7777777777777778,
              "#fb9f3a"
             ],
             [
              0.8888888888888888,
              "#fdca26"
             ],
             [
              1,
              "#f0f921"
             ]
            ],
            "type": "heatmapgl"
           }
          ],
          "histogram": [
           {
            "marker": {
             "pattern": {
              "fillmode": "overlay",
              "size": 10,
              "solidity": 0.2
             }
            },
            "type": "histogram"
           }
          ],
          "histogram2d": [
           {
            "colorbar": {
             "outlinewidth": 0,
             "ticks": ""
            },
            "colorscale": [
             [
              0,
              "#0d0887"
             ],
             [
              0.1111111111111111,
              "#46039f"
             ],
             [
              0.2222222222222222,
              "#7201a8"
             ],
             [
              0.3333333333333333,
              "#9c179e"
             ],
             [
              0.4444444444444444,
              "#bd3786"
             ],
             [
              0.5555555555555556,
              "#d8576b"
             ],
             [
              0.6666666666666666,
              "#ed7953"
             ],
             [
              0.7777777777777778,
              "#fb9f3a"
             ],
             [
              0.8888888888888888,
              "#fdca26"
             ],
             [
              1,
              "#f0f921"
             ]
            ],
            "type": "histogram2d"
           }
          ],
          "histogram2dcontour": [
           {
            "colorbar": {
             "outlinewidth": 0,
             "ticks": ""
            },
            "colorscale": [
             [
              0,
              "#0d0887"
             ],
             [
              0.1111111111111111,
              "#46039f"
             ],
             [
              0.2222222222222222,
              "#7201a8"
             ],
             [
              0.3333333333333333,
              "#9c179e"
             ],
             [
              0.4444444444444444,
              "#bd3786"
             ],
             [
              0.5555555555555556,
              "#d8576b"
             ],
             [
              0.6666666666666666,
              "#ed7953"
             ],
             [
              0.7777777777777778,
              "#fb9f3a"
             ],
             [
              0.8888888888888888,
              "#fdca26"
             ],
             [
              1,
              "#f0f921"
             ]
            ],
            "type": "histogram2dcontour"
           }
          ],
          "mesh3d": [
           {
            "colorbar": {
             "outlinewidth": 0,
             "ticks": ""
            },
            "type": "mesh3d"
           }
          ],
          "parcoords": [
           {
            "line": {
             "colorbar": {
              "outlinewidth": 0,
              "ticks": ""
             }
            },
            "type": "parcoords"
           }
          ],
          "pie": [
           {
            "automargin": true,
            "type": "pie"
           }
          ],
          "scatter": [
           {
            "fillpattern": {
             "fillmode": "overlay",
             "size": 10,
             "solidity": 0.2
            },
            "type": "scatter"
           }
          ],
          "scatter3d": [
           {
            "line": {
             "colorbar": {
              "outlinewidth": 0,
              "ticks": ""
             }
            },
            "marker": {
             "colorbar": {
              "outlinewidth": 0,
              "ticks": ""
             }
            },
            "type": "scatter3d"
           }
          ],
          "scattercarpet": [
           {
            "marker": {
             "colorbar": {
              "outlinewidth": 0,
              "ticks": ""
             }
            },
            "type": "scattercarpet"
           }
          ],
          "scattergeo": [
           {
            "marker": {
             "colorbar": {
              "outlinewidth": 0,
              "ticks": ""
             }
            },
            "type": "scattergeo"
           }
          ],
          "scattergl": [
           {
            "marker": {
             "colorbar": {
              "outlinewidth": 0,
              "ticks": ""
             }
            },
            "type": "scattergl"
           }
          ],
          "scattermapbox": [
           {
            "marker": {
             "colorbar": {
              "outlinewidth": 0,
              "ticks": ""
             }
            },
            "type": "scattermapbox"
           }
          ],
          "scatterpolar": [
           {
            "marker": {
             "colorbar": {
              "outlinewidth": 0,
              "ticks": ""
             }
            },
            "type": "scatterpolar"
           }
          ],
          "scatterpolargl": [
           {
            "marker": {
             "colorbar": {
              "outlinewidth": 0,
              "ticks": ""
             }
            },
            "type": "scatterpolargl"
           }
          ],
          "scatterternary": [
           {
            "marker": {
             "colorbar": {
              "outlinewidth": 0,
              "ticks": ""
             }
            },
            "type": "scatterternary"
           }
          ],
          "surface": [
           {
            "colorbar": {
             "outlinewidth": 0,
             "ticks": ""
            },
            "colorscale": [
             [
              0,
              "#0d0887"
             ],
             [
              0.1111111111111111,
              "#46039f"
             ],
             [
              0.2222222222222222,
              "#7201a8"
             ],
             [
              0.3333333333333333,
              "#9c179e"
             ],
             [
              0.4444444444444444,
              "#bd3786"
             ],
             [
              0.5555555555555556,
              "#d8576b"
             ],
             [
              0.6666666666666666,
              "#ed7953"
             ],
             [
              0.7777777777777778,
              "#fb9f3a"
             ],
             [
              0.8888888888888888,
              "#fdca26"
             ],
             [
              1,
              "#f0f921"
             ]
            ],
            "type": "surface"
           }
          ],
          "table": [
           {
            "cells": {
             "fill": {
              "color": "#EBF0F8"
             },
             "line": {
              "color": "white"
             }
            },
            "header": {
             "fill": {
              "color": "#C8D4E3"
             },
             "line": {
              "color": "white"
             }
            },
            "type": "table"
           }
          ]
         },
         "layout": {
          "annotationdefaults": {
           "arrowcolor": "#2a3f5f",
           "arrowhead": 0,
           "arrowwidth": 1
          },
          "autotypenumbers": "strict",
          "coloraxis": {
           "colorbar": {
            "outlinewidth": 0,
            "ticks": ""
           }
          },
          "colorscale": {
           "diverging": [
            [
             0,
             "#8e0152"
            ],
            [
             0.1,
             "#c51b7d"
            ],
            [
             0.2,
             "#de77ae"
            ],
            [
             0.3,
             "#f1b6da"
            ],
            [
             0.4,
             "#fde0ef"
            ],
            [
             0.5,
             "#f7f7f7"
            ],
            [
             0.6,
             "#e6f5d0"
            ],
            [
             0.7,
             "#b8e186"
            ],
            [
             0.8,
             "#7fbc41"
            ],
            [
             0.9,
             "#4d9221"
            ],
            [
             1,
             "#276419"
            ]
           ],
           "sequential": [
            [
             0,
             "#0d0887"
            ],
            [
             0.1111111111111111,
             "#46039f"
            ],
            [
             0.2222222222222222,
             "#7201a8"
            ],
            [
             0.3333333333333333,
             "#9c179e"
            ],
            [
             0.4444444444444444,
             "#bd3786"
            ],
            [
             0.5555555555555556,
             "#d8576b"
            ],
            [
             0.6666666666666666,
             "#ed7953"
            ],
            [
             0.7777777777777778,
             "#fb9f3a"
            ],
            [
             0.8888888888888888,
             "#fdca26"
            ],
            [
             1,
             "#f0f921"
            ]
           ],
           "sequentialminus": [
            [
             0,
             "#0d0887"
            ],
            [
             0.1111111111111111,
             "#46039f"
            ],
            [
             0.2222222222222222,
             "#7201a8"
            ],
            [
             0.3333333333333333,
             "#9c179e"
            ],
            [
             0.4444444444444444,
             "#bd3786"
            ],
            [
             0.5555555555555556,
             "#d8576b"
            ],
            [
             0.6666666666666666,
             "#ed7953"
            ],
            [
             0.7777777777777778,
             "#fb9f3a"
            ],
            [
             0.8888888888888888,
             "#fdca26"
            ],
            [
             1,
             "#f0f921"
            ]
           ]
          },
          "colorway": [
           "#636efa",
           "#EF553B",
           "#00cc96",
           "#ab63fa",
           "#FFA15A",
           "#19d3f3",
           "#FF6692",
           "#B6E880",
           "#FF97FF",
           "#FECB52"
          ],
          "font": {
           "color": "#2a3f5f"
          },
          "geo": {
           "bgcolor": "white",
           "lakecolor": "white",
           "landcolor": "#E5ECF6",
           "showlakes": true,
           "showland": true,
           "subunitcolor": "white"
          },
          "hoverlabel": {
           "align": "left"
          },
          "hovermode": "closest",
          "mapbox": {
           "style": "light"
          },
          "paper_bgcolor": "white",
          "plot_bgcolor": "#E5ECF6",
          "polar": {
           "angularaxis": {
            "gridcolor": "white",
            "linecolor": "white",
            "ticks": ""
           },
           "bgcolor": "#E5ECF6",
           "radialaxis": {
            "gridcolor": "white",
            "linecolor": "white",
            "ticks": ""
           }
          },
          "scene": {
           "xaxis": {
            "backgroundcolor": "#E5ECF6",
            "gridcolor": "white",
            "gridwidth": 2,
            "linecolor": "white",
            "showbackground": true,
            "ticks": "",
            "zerolinecolor": "white"
           },
           "yaxis": {
            "backgroundcolor": "#E5ECF6",
            "gridcolor": "white",
            "gridwidth": 2,
            "linecolor": "white",
            "showbackground": true,
            "ticks": "",
            "zerolinecolor": "white"
           },
           "zaxis": {
            "backgroundcolor": "#E5ECF6",
            "gridcolor": "white",
            "gridwidth": 2,
            "linecolor": "white",
            "showbackground": true,
            "ticks": "",
            "zerolinecolor": "white"
           }
          },
          "shapedefaults": {
           "line": {
            "color": "#2a3f5f"
           }
          },
          "ternary": {
           "aaxis": {
            "gridcolor": "white",
            "linecolor": "white",
            "ticks": ""
           },
           "baxis": {
            "gridcolor": "white",
            "linecolor": "white",
            "ticks": ""
           },
           "bgcolor": "#E5ECF6",
           "caxis": {
            "gridcolor": "white",
            "linecolor": "white",
            "ticks": ""
           }
          },
          "title": {
           "x": 0.05
          },
          "xaxis": {
           "automargin": true,
           "gridcolor": "white",
           "linecolor": "white",
           "ticks": "",
           "title": {
            "standoff": 15
           },
           "zerolinecolor": "white",
           "zerolinewidth": 2
          },
          "yaxis": {
           "automargin": true,
           "gridcolor": "white",
           "linecolor": "white",
           "ticks": "",
           "title": {
            "standoff": 15
           },
           "zerolinecolor": "white",
           "zerolinewidth": 2
          }
         }
        },
        "xaxis": {
         "anchor": "y",
         "domain": [
          0,
          1
         ],
         "title": {
          "text": "Categoria"
         }
        },
        "yaxis": {
         "anchor": "x",
         "domain": [
          0,
          1
         ],
         "title": {
          "text": "value"
         }
        }
       }
      }
     },
     "metadata": {},
     "output_type": "display_data"
    }
   ],
   "source": [
    "data.groupby('Categoria')['Monto'].sum().plot(kind='bar', height=800)"
   ]
  },
  {
   "cell_type": "markdown",
   "metadata": {},
   "source": [
    "![](sept.png)"
   ]
  },
  {
   "cell_type": "code",
   "execution_count": 6,
   "metadata": {},
   "outputs": [
    {
     "name": "stdout",
     "output_type": "stream",
     "text": [
      "1) Gastos de la categoria lifestyle\n"
     ]
    },
    {
     "data": {
      "text/html": [
       "<div>\n",
       "<style scoped>\n",
       "    .dataframe tbody tr th:only-of-type {\n",
       "        vertical-align: middle;\n",
       "    }\n",
       "\n",
       "    .dataframe tbody tr th {\n",
       "        vertical-align: top;\n",
       "    }\n",
       "\n",
       "    .dataframe thead th {\n",
       "        text-align: right;\n",
       "    }\n",
       "</style>\n",
       "<table border=\"1\" class=\"dataframe\">\n",
       "  <thead>\n",
       "    <tr style=\"text-align: right;\">\n",
       "      <th></th>\n",
       "      <th>Fecha</th>\n",
       "      <th>Descripcion</th>\n",
       "      <th>Monto</th>\n",
       "      <th>Categoria</th>\n",
       "    </tr>\n",
       "    <tr>\n",
       "      <th>index</th>\n",
       "      <th></th>\n",
       "      <th></th>\n",
       "      <th></th>\n",
       "      <th></th>\n",
       "    </tr>\n",
       "  </thead>\n",
       "  <tbody>\n",
       "    <tr>\n",
       "      <th>0</th>\n",
       "      <td>2022-09-09</td>\n",
       "      <td>Heladeria Grido</td>\n",
       "      <td>1700</td>\n",
       "      <td>lifestyle</td>\n",
       "    </tr>\n",
       "    <tr>\n",
       "      <th>8</th>\n",
       "      <td>2022-11-09</td>\n",
       "      <td>panaderia</td>\n",
       "      <td>900</td>\n",
       "      <td>lifestyle</td>\n",
       "    </tr>\n",
       "    <tr>\n",
       "      <th>10</th>\n",
       "      <td>2022-12-09</td>\n",
       "      <td>Pollo \"La Familia\"</td>\n",
       "      <td>1900</td>\n",
       "      <td>lifestyle</td>\n",
       "    </tr>\n",
       "    <tr>\n",
       "      <th>12</th>\n",
       "      <td>2022-12-09</td>\n",
       "      <td>Bebidas vino - cerveza</td>\n",
       "      <td>1250</td>\n",
       "      <td>lifestyle</td>\n",
       "    </tr>\n",
       "    <tr>\n",
       "      <th>22</th>\n",
       "      <td>2022-09-16</td>\n",
       "      <td>Cordiez</td>\n",
       "      <td>1100</td>\n",
       "      <td>lifestyle</td>\n",
       "    </tr>\n",
       "    <tr>\n",
       "      <th>23</th>\n",
       "      <td>2022-09-16</td>\n",
       "      <td>Despensa Moni</td>\n",
       "      <td>900</td>\n",
       "      <td>lifestyle</td>\n",
       "    </tr>\n",
       "    <tr>\n",
       "      <th>33</th>\n",
       "      <td>2022-09-22</td>\n",
       "      <td>birra</td>\n",
       "      <td>600</td>\n",
       "      <td>lifestyle</td>\n",
       "    </tr>\n",
       "  </tbody>\n",
       "</table>\n",
       "</div>"
      ],
      "text/plain": [
       "           Fecha             Descripcion  Monto  Categoria\n",
       "index                                                     \n",
       "0     2022-09-09         Heladeria Grido   1700  lifestyle\n",
       "8     2022-11-09               panaderia    900  lifestyle\n",
       "10    2022-12-09      Pollo \"La Familia\"   1900  lifestyle\n",
       "12    2022-12-09  Bebidas vino - cerveza   1250  lifestyle\n",
       "22    2022-09-16                 Cordiez   1100  lifestyle\n",
       "23    2022-09-16           Despensa Moni    900  lifestyle\n",
       "33    2022-09-22                   birra    600  lifestyle"
      ]
     },
     "metadata": {},
     "output_type": "display_data"
    },
    {
     "name": "stdout",
     "output_type": "stream",
     "text": [
      "gastos totales = 8350\n",
      "--------------------------------------------------\n",
      "\n",
      "2) Gastos de la categoria casa\n"
     ]
    },
    {
     "data": {
      "text/html": [
       "<div>\n",
       "<style scoped>\n",
       "    .dataframe tbody tr th:only-of-type {\n",
       "        vertical-align: middle;\n",
       "    }\n",
       "\n",
       "    .dataframe tbody tr th {\n",
       "        vertical-align: top;\n",
       "    }\n",
       "\n",
       "    .dataframe thead th {\n",
       "        text-align: right;\n",
       "    }\n",
       "</style>\n",
       "<table border=\"1\" class=\"dataframe\">\n",
       "  <thead>\n",
       "    <tr style=\"text-align: right;\">\n",
       "      <th></th>\n",
       "      <th>Fecha</th>\n",
       "      <th>Descripcion</th>\n",
       "      <th>Monto</th>\n",
       "      <th>Categoria</th>\n",
       "    </tr>\n",
       "    <tr>\n",
       "      <th>index</th>\n",
       "      <th></th>\n",
       "      <th></th>\n",
       "      <th></th>\n",
       "      <th></th>\n",
       "    </tr>\n",
       "  </thead>\n",
       "  <tbody>\n",
       "    <tr>\n",
       "      <th>1</th>\n",
       "      <td>2022-09-09</td>\n",
       "      <td>Veterinaria comida India</td>\n",
       "      <td>4500</td>\n",
       "      <td>casa</td>\n",
       "    </tr>\n",
       "    <tr>\n",
       "      <th>4</th>\n",
       "      <td>2022-10-09</td>\n",
       "      <td>Farmacia</td>\n",
       "      <td>600</td>\n",
       "      <td>casa</td>\n",
       "    </tr>\n",
       "    <tr>\n",
       "      <th>11</th>\n",
       "      <td>2022-12-09</td>\n",
       "      <td>Farmacia</td>\n",
       "      <td>600</td>\n",
       "      <td>casa</td>\n",
       "    </tr>\n",
       "    <tr>\n",
       "      <th>15</th>\n",
       "      <td>2022-09-13</td>\n",
       "      <td>Farmacia</td>\n",
       "      <td>6000</td>\n",
       "      <td>casa</td>\n",
       "    </tr>\n",
       "    <tr>\n",
       "      <th>19</th>\n",
       "      <td>2022-09-16</td>\n",
       "      <td>jabón liquido. quita mancha y lavandina</td>\n",
       "      <td>3300</td>\n",
       "      <td>casa</td>\n",
       "    </tr>\n",
       "    <tr>\n",
       "      <th>40</th>\n",
       "      <td>2022-09-29</td>\n",
       "      <td>Comida Kenya</td>\n",
       "      <td>1570</td>\n",
       "      <td>casa</td>\n",
       "    </tr>\n",
       "  </tbody>\n",
       "</table>\n",
       "</div>"
      ],
      "text/plain": [
       "           Fecha                              Descripcion  Monto Categoria\n",
       "index                                                                     \n",
       "1     2022-09-09                 Veterinaria comida India   4500      casa\n",
       "4     2022-10-09                                 Farmacia    600      casa\n",
       "11    2022-12-09                                 Farmacia    600      casa\n",
       "15    2022-09-13                                 Farmacia   6000      casa\n",
       "19    2022-09-16  jabón liquido. quita mancha y lavandina   3300      casa\n",
       "40    2022-09-29                             Comida Kenya   1570      casa"
      ]
     },
     "metadata": {},
     "output_type": "display_data"
    },
    {
     "name": "stdout",
     "output_type": "stream",
     "text": [
      "gastos totales = 16570\n",
      "--------------------------------------------------\n",
      "\n",
      "3) Gastos de la categoria almacen\n"
     ]
    },
    {
     "data": {
      "text/html": [
       "<div>\n",
       "<style scoped>\n",
       "    .dataframe tbody tr th:only-of-type {\n",
       "        vertical-align: middle;\n",
       "    }\n",
       "\n",
       "    .dataframe tbody tr th {\n",
       "        vertical-align: top;\n",
       "    }\n",
       "\n",
       "    .dataframe thead th {\n",
       "        text-align: right;\n",
       "    }\n",
       "</style>\n",
       "<table border=\"1\" class=\"dataframe\">\n",
       "  <thead>\n",
       "    <tr style=\"text-align: right;\">\n",
       "      <th></th>\n",
       "      <th>Fecha</th>\n",
       "      <th>Descripcion</th>\n",
       "      <th>Monto</th>\n",
       "      <th>Categoria</th>\n",
       "    </tr>\n",
       "    <tr>\n",
       "      <th>index</th>\n",
       "      <th></th>\n",
       "      <th></th>\n",
       "      <th></th>\n",
       "      <th></th>\n",
       "    </tr>\n",
       "  </thead>\n",
       "  <tbody>\n",
       "    <tr>\n",
       "      <th>2</th>\n",
       "      <td>2022-10-09</td>\n",
       "      <td>Super \"La Cruz\"</td>\n",
       "      <td>1760</td>\n",
       "      <td>almacen</td>\n",
       "    </tr>\n",
       "    <tr>\n",
       "      <th>7</th>\n",
       "      <td>2022-11-09</td>\n",
       "      <td>panaderia</td>\n",
       "      <td>630</td>\n",
       "      <td>almacen</td>\n",
       "    </tr>\n",
       "    <tr>\n",
       "      <th>16</th>\n",
       "      <td>2022-09-14</td>\n",
       "      <td>Despensa - jamon y queso</td>\n",
       "      <td>1950</td>\n",
       "      <td>almacen</td>\n",
       "    </tr>\n",
       "    <tr>\n",
       "      <th>20</th>\n",
       "      <td>2022-09-16</td>\n",
       "      <td>leche en polvo</td>\n",
       "      <td>1100</td>\n",
       "      <td>almacen</td>\n",
       "    </tr>\n",
       "    <tr>\n",
       "      <th>21</th>\n",
       "      <td>2022-09-16</td>\n",
       "      <td>Despensa Moni</td>\n",
       "      <td>1300</td>\n",
       "      <td>almacen</td>\n",
       "    </tr>\n",
       "    <tr>\n",
       "      <th>26</th>\n",
       "      <td>2022-09-17</td>\n",
       "      <td>Almacen</td>\n",
       "      <td>4000</td>\n",
       "      <td>almacen</td>\n",
       "    </tr>\n",
       "    <tr>\n",
       "      <th>27</th>\n",
       "      <td>2022-09-17</td>\n",
       "      <td>Miel</td>\n",
       "      <td>1500</td>\n",
       "      <td>almacen</td>\n",
       "    </tr>\n",
       "    <tr>\n",
       "      <th>28</th>\n",
       "      <td>2022-09-17</td>\n",
       "      <td>coco</td>\n",
       "      <td>600</td>\n",
       "      <td>almacen</td>\n",
       "    </tr>\n",
       "    <tr>\n",
       "      <th>30</th>\n",
       "      <td>2022-09-19</td>\n",
       "      <td>pan</td>\n",
       "      <td>400</td>\n",
       "      <td>almacen</td>\n",
       "    </tr>\n",
       "    <tr>\n",
       "      <th>32</th>\n",
       "      <td>2022-09-22</td>\n",
       "      <td>Almacen</td>\n",
       "      <td>1500</td>\n",
       "      <td>almacen</td>\n",
       "    </tr>\n",
       "    <tr>\n",
       "      <th>35</th>\n",
       "      <td>2022-09-26</td>\n",
       "      <td>Quesos</td>\n",
       "      <td>5000</td>\n",
       "      <td>almacen</td>\n",
       "    </tr>\n",
       "    <tr>\n",
       "      <th>36</th>\n",
       "      <td>2022-09-26</td>\n",
       "      <td>dulce</td>\n",
       "      <td>650</td>\n",
       "      <td>almacen</td>\n",
       "    </tr>\n",
       "    <tr>\n",
       "      <th>43</th>\n",
       "      <td>2022-04-10</td>\n",
       "      <td>despensa</td>\n",
       "      <td>1000</td>\n",
       "      <td>almacen</td>\n",
       "    </tr>\n",
       "    <tr>\n",
       "      <th>44</th>\n",
       "      <td>2022-06-10</td>\n",
       "      <td>Cordiez</td>\n",
       "      <td>8000</td>\n",
       "      <td>almacen</td>\n",
       "    </tr>\n",
       "  </tbody>\n",
       "</table>\n",
       "</div>"
      ],
      "text/plain": [
       "           Fecha               Descripcion  Monto Categoria\n",
       "index                                                      \n",
       "2     2022-10-09          Super \"La Cruz\"    1760   almacen\n",
       "7     2022-11-09                 panaderia    630   almacen\n",
       "16    2022-09-14  Despensa - jamon y queso   1950   almacen\n",
       "20    2022-09-16            leche en polvo   1100   almacen\n",
       "21    2022-09-16             Despensa Moni   1300   almacen\n",
       "26    2022-09-17                   Almacen   4000   almacen\n",
       "27    2022-09-17                      Miel   1500   almacen\n",
       "28    2022-09-17                      coco    600   almacen\n",
       "30    2022-09-19                       pan    400   almacen\n",
       "32    2022-09-22                   Almacen   1500   almacen\n",
       "35    2022-09-26                    Quesos   5000   almacen\n",
       "36    2022-09-26                     dulce    650   almacen\n",
       "43    2022-04-10                  despensa   1000   almacen\n",
       "44    2022-06-10                   Cordiez   8000   almacen"
      ]
     },
     "metadata": {},
     "output_type": "display_data"
    },
    {
     "name": "stdout",
     "output_type": "stream",
     "text": [
      "gastos totales = 29390\n",
      "--------------------------------------------------\n",
      "\n",
      "4) Gastos de la categoria fresco\n"
     ]
    },
    {
     "data": {
      "text/html": [
       "<div>\n",
       "<style scoped>\n",
       "    .dataframe tbody tr th:only-of-type {\n",
       "        vertical-align: middle;\n",
       "    }\n",
       "\n",
       "    .dataframe tbody tr th {\n",
       "        vertical-align: top;\n",
       "    }\n",
       "\n",
       "    .dataframe thead th {\n",
       "        text-align: right;\n",
       "    }\n",
       "</style>\n",
       "<table border=\"1\" class=\"dataframe\">\n",
       "  <thead>\n",
       "    <tr style=\"text-align: right;\">\n",
       "      <th></th>\n",
       "      <th>Fecha</th>\n",
       "      <th>Descripcion</th>\n",
       "      <th>Monto</th>\n",
       "      <th>Categoria</th>\n",
       "    </tr>\n",
       "    <tr>\n",
       "      <th>index</th>\n",
       "      <th></th>\n",
       "      <th></th>\n",
       "      <th></th>\n",
       "      <th></th>\n",
       "    </tr>\n",
       "  </thead>\n",
       "  <tbody>\n",
       "    <tr>\n",
       "      <th>3</th>\n",
       "      <td>2022-10-09</td>\n",
       "      <td>carniceria \"Rufo\"</td>\n",
       "      <td>1760</td>\n",
       "      <td>fresco</td>\n",
       "    </tr>\n",
       "    <tr>\n",
       "      <th>6</th>\n",
       "      <td>2022-11-09</td>\n",
       "      <td>Carniceria</td>\n",
       "      <td>2500</td>\n",
       "      <td>fresco</td>\n",
       "    </tr>\n",
       "    <tr>\n",
       "      <th>18</th>\n",
       "      <td>2022-09-15</td>\n",
       "      <td>carne y verduras</td>\n",
       "      <td>2595</td>\n",
       "      <td>fresco</td>\n",
       "    </tr>\n",
       "    <tr>\n",
       "      <th>25</th>\n",
       "      <td>2022-09-17</td>\n",
       "      <td>Carniceria</td>\n",
       "      <td>2120</td>\n",
       "      <td>fresco</td>\n",
       "    </tr>\n",
       "    <tr>\n",
       "      <th>29</th>\n",
       "      <td>2022-09-19</td>\n",
       "      <td>carne y verdura</td>\n",
       "      <td>2800</td>\n",
       "      <td>fresco</td>\n",
       "    </tr>\n",
       "    <tr>\n",
       "      <th>31</th>\n",
       "      <td>2022-09-22</td>\n",
       "      <td>Carniceria</td>\n",
       "      <td>3000</td>\n",
       "      <td>fresco</td>\n",
       "    </tr>\n",
       "    <tr>\n",
       "      <th>37</th>\n",
       "      <td>2022-09-26</td>\n",
       "      <td>verduleria</td>\n",
       "      <td>1600</td>\n",
       "      <td>fresco</td>\n",
       "    </tr>\n",
       "    <tr>\n",
       "      <th>38</th>\n",
       "      <td>2022-09-26</td>\n",
       "      <td>limones</td>\n",
       "      <td>130</td>\n",
       "      <td>fresco</td>\n",
       "    </tr>\n",
       "    <tr>\n",
       "      <th>41</th>\n",
       "      <td>2022-09-30</td>\n",
       "      <td>carne y verduras</td>\n",
       "      <td>5680</td>\n",
       "      <td>fresco</td>\n",
       "    </tr>\n",
       "    <tr>\n",
       "      <th>42</th>\n",
       "      <td>2022-01-10</td>\n",
       "      <td>verduras</td>\n",
       "      <td>1400</td>\n",
       "      <td>fresco</td>\n",
       "    </tr>\n",
       "  </tbody>\n",
       "</table>\n",
       "</div>"
      ],
      "text/plain": [
       "           Fecha        Descripcion  Monto Categoria\n",
       "index                                               \n",
       "3     2022-10-09  carniceria \"Rufo\"   1760    fresco\n",
       "6     2022-11-09         Carniceria   2500    fresco\n",
       "18    2022-09-15   carne y verduras   2595    fresco\n",
       "25    2022-09-17         Carniceria   2120    fresco\n",
       "29    2022-09-19    carne y verdura   2800    fresco\n",
       "31    2022-09-22         Carniceria   3000    fresco\n",
       "37    2022-09-26         verduleria   1600    fresco\n",
       "38    2022-09-26            limones    130    fresco\n",
       "41    2022-09-30   carne y verduras   5680    fresco\n",
       "42    2022-01-10           verduras   1400    fresco"
      ]
     },
     "metadata": {},
     "output_type": "display_data"
    },
    {
     "name": "stdout",
     "output_type": "stream",
     "text": [
      "gastos totales = 23585\n",
      "--------------------------------------------------\n",
      "\n",
      "5) Gastos de la categoria gastos fijos\n"
     ]
    },
    {
     "data": {
      "text/html": [
       "<div>\n",
       "<style scoped>\n",
       "    .dataframe tbody tr th:only-of-type {\n",
       "        vertical-align: middle;\n",
       "    }\n",
       "\n",
       "    .dataframe tbody tr th {\n",
       "        vertical-align: top;\n",
       "    }\n",
       "\n",
       "    .dataframe thead th {\n",
       "        text-align: right;\n",
       "    }\n",
       "</style>\n",
       "<table border=\"1\" class=\"dataframe\">\n",
       "  <thead>\n",
       "    <tr style=\"text-align: right;\">\n",
       "      <th></th>\n",
       "      <th>Fecha</th>\n",
       "      <th>Descripcion</th>\n",
       "      <th>Monto</th>\n",
       "      <th>Categoria</th>\n",
       "    </tr>\n",
       "    <tr>\n",
       "      <th>index</th>\n",
       "      <th></th>\n",
       "      <th></th>\n",
       "      <th></th>\n",
       "      <th></th>\n",
       "    </tr>\n",
       "  </thead>\n",
       "  <tbody>\n",
       "    <tr>\n",
       "      <th>5</th>\n",
       "      <td>2022-10-09</td>\n",
       "      <td>Luz y Agua</td>\n",
       "      <td>4000</td>\n",
       "      <td>gastos fijos</td>\n",
       "    </tr>\n",
       "    <tr>\n",
       "      <th>13</th>\n",
       "      <td>2022-12-09</td>\n",
       "      <td>Internet y cable</td>\n",
       "      <td>4600</td>\n",
       "      <td>gastos fijos</td>\n",
       "    </tr>\n",
       "    <tr>\n",
       "      <th>17</th>\n",
       "      <td>2022-09-15</td>\n",
       "      <td>Alquiler</td>\n",
       "      <td>45000</td>\n",
       "      <td>gastos fijos</td>\n",
       "    </tr>\n",
       "    <tr>\n",
       "      <th>24</th>\n",
       "      <td>2022-09-16</td>\n",
       "      <td>Nafta 6L</td>\n",
       "      <td>1100</td>\n",
       "      <td>gastos fijos</td>\n",
       "    </tr>\n",
       "    <tr>\n",
       "      <th>34</th>\n",
       "      <td>2022-09-22</td>\n",
       "      <td>Gas</td>\n",
       "      <td>4800</td>\n",
       "      <td>gastos fijos</td>\n",
       "    </tr>\n",
       "    <tr>\n",
       "      <th>45</th>\n",
       "      <td>2022-07-10</td>\n",
       "      <td>Internet y cable</td>\n",
       "      <td>5100</td>\n",
       "      <td>gastos fijos</td>\n",
       "    </tr>\n",
       "  </tbody>\n",
       "</table>\n",
       "</div>"
      ],
      "text/plain": [
       "           Fecha       Descripcion  Monto     Categoria\n",
       "index                                                  \n",
       "5     2022-10-09        Luz y Agua   4000  gastos fijos\n",
       "13    2022-12-09  Internet y cable   4600  gastos fijos\n",
       "17    2022-09-15          Alquiler  45000  gastos fijos\n",
       "24    2022-09-16          Nafta 6L   1100  gastos fijos\n",
       "34    2022-09-22               Gas   4800  gastos fijos\n",
       "45    2022-07-10  Internet y cable   5100  gastos fijos"
      ]
     },
     "metadata": {},
     "output_type": "display_data"
    },
    {
     "name": "stdout",
     "output_type": "stream",
     "text": [
      "gastos totales = 64600\n",
      "--------------------------------------------------\n",
      "\n",
      "6) Gastos de la categoria gastos extras\n"
     ]
    },
    {
     "data": {
      "text/html": [
       "<div>\n",
       "<style scoped>\n",
       "    .dataframe tbody tr th:only-of-type {\n",
       "        vertical-align: middle;\n",
       "    }\n",
       "\n",
       "    .dataframe tbody tr th {\n",
       "        vertical-align: top;\n",
       "    }\n",
       "\n",
       "    .dataframe thead th {\n",
       "        text-align: right;\n",
       "    }\n",
       "</style>\n",
       "<table border=\"1\" class=\"dataframe\">\n",
       "  <thead>\n",
       "    <tr style=\"text-align: right;\">\n",
       "      <th></th>\n",
       "      <th>Fecha</th>\n",
       "      <th>Descripcion</th>\n",
       "      <th>Monto</th>\n",
       "      <th>Categoria</th>\n",
       "    </tr>\n",
       "    <tr>\n",
       "      <th>index</th>\n",
       "      <th></th>\n",
       "      <th></th>\n",
       "      <th></th>\n",
       "      <th></th>\n",
       "    </tr>\n",
       "  </thead>\n",
       "  <tbody>\n",
       "    <tr>\n",
       "      <th>9</th>\n",
       "      <td>2022-11-09</td>\n",
       "      <td>Comision Vicky</td>\n",
       "      <td>6700</td>\n",
       "      <td>gastos extras</td>\n",
       "    </tr>\n",
       "    <tr>\n",
       "      <th>14</th>\n",
       "      <td>2022-09-13</td>\n",
       "      <td>Deuda Municipalidad</td>\n",
       "      <td>3300</td>\n",
       "      <td>gastos extras</td>\n",
       "    </tr>\n",
       "  </tbody>\n",
       "</table>\n",
       "</div>"
      ],
      "text/plain": [
       "           Fecha          Descripcion  Monto      Categoria\n",
       "index                                                      \n",
       "9     2022-11-09       Comision Vicky   6700  gastos extras\n",
       "14    2022-09-13  Deuda Municipalidad   3300  gastos extras"
      ]
     },
     "metadata": {},
     "output_type": "display_data"
    },
    {
     "name": "stdout",
     "output_type": "stream",
     "text": [
      "gastos totales = 10000\n",
      "--------------------------------------------------\n",
      "\n",
      "7) Gastos de la categoria A\n"
     ]
    },
    {
     "data": {
      "text/html": [
       "<div>\n",
       "<style scoped>\n",
       "    .dataframe tbody tr th:only-of-type {\n",
       "        vertical-align: middle;\n",
       "    }\n",
       "\n",
       "    .dataframe tbody tr th {\n",
       "        vertical-align: top;\n",
       "    }\n",
       "\n",
       "    .dataframe thead th {\n",
       "        text-align: right;\n",
       "    }\n",
       "</style>\n",
       "<table border=\"1\" class=\"dataframe\">\n",
       "  <thead>\n",
       "    <tr style=\"text-align: right;\">\n",
       "      <th></th>\n",
       "      <th>Fecha</th>\n",
       "      <th>Descripcion</th>\n",
       "      <th>Monto</th>\n",
       "      <th>Categoria</th>\n",
       "    </tr>\n",
       "    <tr>\n",
       "      <th>index</th>\n",
       "      <th></th>\n",
       "      <th></th>\n",
       "      <th></th>\n",
       "      <th></th>\n",
       "    </tr>\n",
       "  </thead>\n",
       "  <tbody>\n",
       "    <tr>\n",
       "      <th>39</th>\n",
       "      <td>2022-09-29</td>\n",
       "      <td>A</td>\n",
       "      <td>1740</td>\n",
       "      <td>A</td>\n",
       "    </tr>\n",
       "  </tbody>\n",
       "</table>\n",
       "</div>"
      ],
      "text/plain": [
       "           Fecha Descripcion  Monto Categoria\n",
       "index                                        \n",
       "39    2022-09-29           A   1740         A"
      ]
     },
     "metadata": {},
     "output_type": "display_data"
    },
    {
     "name": "stdout",
     "output_type": "stream",
     "text": [
      "gastos totales = 1740\n",
      "--------------------------------------------------\n",
      "\n",
      "Monto total del mes = $154235\n"
     ]
    }
   ],
   "source": [
    "from itertools import count\n",
    "x = count()\n",
    "next(x)\n",
    "for category in data.Categoria.unique():\n",
    "    print (f\"{next(x)}) Gastos de la categoria {category}\")\n",
    "    check = data[data.Categoria == category]\n",
    "    display (check)\n",
    "    print (f\"gastos totales = {check.Monto.sum()}\")\n",
    "    print (\"-\"*50)\n",
    "    print()\n",
    "\n",
    "print(f\"Monto total del mes = ${data.Monto.sum()}\")"
   ]
  }
 ],
 "metadata": {
  "kernelspec": {
   "display_name": "Python 3.10.2 64-bit",
   "language": "python",
   "name": "python3"
  },
  "language_info": {
   "codemirror_mode": {
    "name": "ipython",
    "version": 3
   },
   "file_extension": ".py",
   "mimetype": "text/x-python",
   "name": "python",
   "nbconvert_exporter": "python",
   "pygments_lexer": "ipython3",
   "version": "3.10.2"
  },
  "orig_nbformat": 4,
  "vscode": {
   "interpreter": {
    "hash": "4a8ad0719fb4c7e694a659c43e490ed667120cd373b1de1407c37b4b29da83d3"
   }
  }
 },
 "nbformat": 4,
 "nbformat_minor": 2
}
